{
 "cells": [
  {
   "attachments": {},
   "cell_type": "markdown",
   "metadata": {},
   "source": [
    "# 一、 决策树"
   ]
  },
  {
   "attachments": {},
   "cell_type": "markdown",
   "id": "1c4e007a",
   "metadata": {},
   "source": [
    "### 1.1 决策树的定义\n",
    "\n",
    "<center> <img src=\"images/p040.png\" width=\"700\" height=\"450\"/> </center>\n"
   ]
  },
  {
   "attachments": {},
   "cell_type": "markdown",
   "metadata": {},
   "source": [
    "构建决策树的步骤如下:\n",
    "- 从根节点的所有示例开始\n",
    "- 计算在所有可能的特征上进行分割的信息增益，并选择具有最高信息增益的特征\n",
    "- 根据选择的特征拆分数据集，并创建树的左右分支\n",
    "- 重复分裂过程，直到满足停止条件\n",
    "  1. 决策树已经到底\n",
    "  2. 某种可能已经达到100%\n",
    "  3. 信息增益 或者 number 小于某个阈值\n",
    "   \n",
    "适合规则的数据（不适合图像、音频、自然语言这些不规则数据）， 训练速度快"
   ]
  },
  {
   "attachments": {},
   "cell_type": "markdown",
   "metadata": {},
   "source": [
    "### 1.2  Calculate entropy熵（纯度）\n",
    "用于衡量数据的纯度\n",
    "$$\n",
    "H(p_1) = -p_1 \\text{log}_2(p_1) - (1- p_1) \\text{log}_2(1- p_1)\n",
    "$$\n",
    "一般$log_a$取$log_2$， 而不是$ln$, 并且定义$0log_2 0=0$。  熵越小表示越纯， 熵越大表示复杂度越高，杂质越多"
   ]
  },
  {
   "cell_type": "code",
   "execution_count": 1,
   "metadata": {},
   "outputs": [
    {
     "data": {
      "image/png": "[encoded data removed]",
      "text/plain": [
       "<Figure size 600x400 with 1 Axes>"
      ]
     },
     "metadata": {},
     "output_type": "display_data"
    }
   ],
   "source": [
    "import numpy as np\n",
    "import matplotlib.pyplot as plt\n",
    "from my_draw import *\n",
    "from warnings import simplefilter\n",
    "simplefilter(action='ignore', category=FutureWarning)\n",
    "\n",
    "X_train = np.array([[1,1,1],[1,0,1],[1,0,0],[1,0,0],[1,1,1],[0,1,1],[0,0,0],[1,0,1],[0,1,0],[1,0,0]])\n",
    "y_train = np.array([1,1,0,0,1,0,0,1,1,0])\n",
    "def compute_entropy(y):\n",
    "    entropy = 0.\n",
    "    if len(y) != 0: \n",
    "        p1 = len(y[y == 1]) / len(y)\n",
    "        if (p1 != 0) & (p1 != 1):\n",
    "            entropy = -p1 * np.log2(p1) - (1 - p1) * np.log2(1 - p1)\n",
    "        else:\n",
    "            entropy = 0\n",
    "    return entropy\n",
    "draw_entropy()"
   ]
  },
  {
   "cell_type": "code",
   "execution_count": 2,
   "metadata": {},
   "outputs": [],
   "source": [
    "# 分成两类\n",
    "def split_dataset(X, node_indices, feature):\n",
    "    left_indices = []\n",
    "    right_indices = []\n",
    "    for ind in node_indices:\n",
    "        if X[ind][feature] == 1:\n",
    "            left_indices.append(ind)\n",
    "        else:\n",
    "            right_indices.append(ind)\n",
    "    return left_indices, right_indices"
   ]
  },
  {
   "attachments": {},
   "cell_type": "markdown",
   "metadata": {},
   "source": [
    "### 1.3 信息增益 information gain\n",
    "$$\n",
    "\\text{Information Gain} = H(p_1^\\text{node})- (w^{\\text{left}}H(p_1^\\text{left}) + w^{\\text{right}}H(p_1^\\text{right}))\n",
    "$$\n",
    "\n",
    "where \n",
    "- $H(p_1^\\text{node})$ 为该节点的熵\n",
    "- $H(p_1^\\text{left})$ and $H(p_1^\\text{right})$ 是拆分后在左右两个分支上的熵\n",
    "- $w^{\\text{left}}$ and $w^{\\text{right}}$ 是样本在左分支和右分支的比例\n",
    "<center> <img src=\"images/p033.png\" width=\"800\" height=\"400\"/> </center>"
   ]
  },
  {
   "cell_type": "code",
   "execution_count": 3,
   "metadata": {},
   "outputs": [
    {
     "name": "stdout",
     "output_type": "stream",
     "text": [
      "Left indices:  [0, 1, 2, 3, 4, 7, 9]\n",
      "Right indices:  [5, 6, 8]\n"
     ]
    }
   ],
   "source": [
    "root_indices = [0, 1, 2, 3, 4, 5, 6, 7, 8, 9]\n",
    "feature = 0\n",
    "left_indices, right_indices = split_dataset(X_train, root_indices, feature)\n",
    "print(\"Left indices: \", left_indices)\n",
    "print(\"Right indices: \", right_indices)"
   ]
  },
  {
   "cell_type": "code",
   "execution_count": 4,
   "metadata": {},
   "outputs": [
    {
     "name": "stdout",
     "output_type": "stream",
     "text": [
      "Information Gain from splitting the root on brown cap:  0.034851554559677034\n",
      "Information Gain from splitting the root on tapering stalk shape:  0.12451124978365313\n",
      "Information Gain from splitting the root on solitary:  0.2780719051126377\n"
     ]
    }
   ],
   "source": [
    "# 计算信息增益\n",
    "def compute_information_gain(X, y, node_indices, feature):\n",
    "    left_indices, right_indices = split_dataset(X, node_indices, feature)\n",
    "    X_node, y_node = X[node_indices], y[node_indices]\n",
    "    X_left, y_left = X[left_indices], y[left_indices]\n",
    "    X_right, y_right = X[right_indices], y[right_indices]\n",
    "    information_gain = 0\n",
    "    node_entropy = compute_entropy(y_node)\n",
    "    left_entropy = compute_entropy(y_left)\n",
    "    right_entropy = compute_entropy(y_right)\n",
    "    # Weights \n",
    "    w_left  = len(y_left)/len(y_node)\n",
    "    w_right = len(y_right)/len(y_node)\n",
    "    w_entropy = w_left * left_entropy +  w_right * right_entropy                                                  \n",
    "    information_gain = node_entropy - w_entropy   \n",
    "    return information_gain\n",
    "\n",
    "info_gain0 = compute_information_gain(X_train, y_train, root_indices, feature=0)\n",
    "print(\"Information Gain from splitting the root on brown cap: \", info_gain0)\n",
    "info_gain1 = compute_information_gain(X_train, y_train, root_indices, feature=1)\n",
    "print(\"Information Gain from splitting the root on tapering stalk shape: \", info_gain1)\n",
    "info_gain2 = compute_information_gain(X_train, y_train, root_indices, feature=2)\n",
    "print(\"Information Gain from splitting the root on solitary: \", info_gain2)\n",
    "# 观察输出可以发现，在根节点上的“隔离”(feature = 2)上的分裂提供了最大的信息增益。因此，它是在根节点上进行分割的最佳特性"
   ]
  },
  {
   "attachments": {},
   "cell_type": "markdown",
   "metadata": {},
   "source": [
    "### 1.4  分枝选择 split\n",
    "用能够使得信息增益最大的标准作为分裂依据\n",
    "<center> <img src=\"images/p036.png\" width=\"1000\" height=\"500\"/> </center>"
   ]
  },
  {
   "cell_type": "code",
   "execution_count": 5,
   "metadata": {},
   "outputs": [
    {
     "name": "stdout",
     "output_type": "stream",
     "text": [
      "Best feature to split on: 2\n"
     ]
    }
   ],
   "source": [
    "def get_best_split(X, y, node_indices):   \n",
    "    num_features = X.shape[1]\n",
    "    best_feature = -1\n",
    "    max_information_gain = 0\n",
    "    for feature in range(num_features):\n",
    "        information_gain = compute_information_gain(X, y, node_indices, feature)\n",
    "        if information_gain > max_information_gain: \n",
    "            max_information_gain = information_gain\n",
    "            best_feature = feature\n",
    "    return best_feature\n",
    "# 检验2是最好的标准\n",
    "best_feature = get_best_split(X_train, y_train, root_indices)\n",
    "print(\"Best feature to split on: %d\" % best_feature)"
   ]
  },
  {
   "cell_type": "code",
   "execution_count": 6,
   "id": "b79c1eed",
   "metadata": {},
   "outputs": [
    {
     "name": "stdout",
     "output_type": "stream",
     "text": [
      " Depth 0, Root: Split on feature: 2\n",
      "- Depth 1, Left: Split on feature: 0\n",
      "  -- Left leaf node with indices [0, 1, 4, 7]\n",
      "  -- Right leaf node with indices [5]\n",
      "- Depth 1, Right: Split on feature: 1\n",
      "  -- Left leaf node with indices [8]\n",
      "  -- Right leaf node with indices [2, 3, 6, 9]\n"
     ]
    }
   ],
   "source": [
    "# 使用上面实现的函数来生成决策树，通过依次选择最佳特征进行分割，直到达到停止条件(最大深度为2)\n",
    "tree = []\n",
    "def build_tree_recursive(X, y, node_indices, branch_name, max_depth, current_depth):\n",
    "    # Maximum depth reached - stop splitting\n",
    "    if current_depth == max_depth:\n",
    "        formatting = \" \"*current_depth + \"-\"*current_depth\n",
    "        print(formatting, \"%s leaf node with indices\" % branch_name, node_indices)\n",
    "        return\n",
    "    # Otherwise, get best split and split the data\n",
    "    # Get the best feature and threshold at this node\n",
    "    best_feature = get_best_split(X, y, node_indices) \n",
    "    tree.append((current_depth, branch_name, best_feature, node_indices))\n",
    "    formatting = \"-\"*current_depth\n",
    "    print(\"%s Depth %d, %s: Split on feature: %d\" % (formatting, current_depth, branch_name, best_feature))\n",
    "    # Split the dataset at the best feature\n",
    "    left_indices, right_indices = split_dataset(X, node_indices, best_feature)\n",
    "    # continue splitting the left and the right child. Increment current depth\n",
    "    build_tree_recursive(X, y, left_indices, \"Left\", max_depth, current_depth+1)\n",
    "    build_tree_recursive(X, y, right_indices, \"Right\", max_depth, current_depth+1)\n",
    "\n",
    "build_tree_recursive(X_train, y_train, root_indices, \"Root\", max_depth=2, current_depth=0)"
   ]
  },
  {
   "attachments": {},
   "cell_type": "markdown",
   "metadata": {},
   "source": [
    "### 1.5 多于2个分枝 One Hot编码\n",
    "如果决策的时候某个特征有两种以上的n个可能，把它按照one-hot编码的方式进行编排，变为n个特征。 每个又只有0和1两种可能了，因此又可以继续使用决策树\n",
    "\n",
    "<center> <img src=\"images/p034.png\" width=\"850\" height=\"450\"/> </center>"
   ]
  },
  {
   "attachments": {},
   "cell_type": "markdown",
   "id": "c50ae7e3",
   "metadata": {},
   "source": [
    "### 1.6 连续值\n",
    "如下图中的体重\n",
    "选择信息熵最大的作为阈值分割依据（按阈值分到两侧）。阈值可以通过穷举法找到\n",
    "<center> <img src=\"images/p035.png\" width=\"800\"/> </center>"
   ]
  },
  {
   "attachments": {},
   "cell_type": "markdown",
   "id": "92609650",
   "metadata": {},
   "source": [
    "### 1.7 回归树\n",
    "将决策树概括为逻辑回归，以便预测一个连续的值\n",
    "\n",
    "从熵增加最大  变为 方差减少最多\n"
   ]
  },
  {
   "attachments": {},
   "cell_type": "markdown",
   "metadata": {},
   "source": [
    "# 二、 随机森林   tree ensemble\n",
    "改变一个训练的元素，训练出来的决策树的分叉就可能不同。 可以通过有放回抽样的方式训练很多不同的树，根据“投票”结果来决定\n",
    "\n",
    "<center> <img src=\"images/p037.png\" width=\"1000\"/> </center>"
   ]
  },
  {
   "attachments": {},
   "cell_type": "markdown",
   "id": "dcb09a2f",
   "metadata": {},
   "source": [
    "# 三、 XGBoost 增强学习树\n",
    "极端梯度下降树\n",
    "内部采用了正则化防止过拟合\n",
    "```python\n",
    "# 分类 Classification\n",
    "from xgboost import XGBClassifier\n",
    "model = XGBClassifier()\n",
    "model.fit(X_train,y_train)\n",
    "y_pred = model.predict(X_test)\n",
    "\n",
    "# 回归 Regression\n",
    "from xgboost import XGBRegressor\n",
    "model = XGBRegressor()\n",
    "model.fit(X_train,y_train)\n",
    "y_pred = model.predict(X_test)\n",
    "```\n",
    "\n",
    "下列代码使用了[皮马印第安人数据集](https://www.kaggle.com/datasets/kumargh/pimaindiansdiabetescsv)"
   ]
  },
  {
   "cell_type": "code",
   "execution_count": 7,
   "id": "481e93f0",
   "metadata": {},
   "outputs": [
    {
     "name": "stdout",
     "output_type": "stream",
     "text": [
      "[0]\teval-logloss:0.66294\ttrain-logloss:0.65432\n",
      "[1]\teval-logloss:0.63888\ttrain-logloss:0.62324\n",
      "[2]\teval-logloss:0.62043\ttrain-logloss:0.59783\n",
      "[3]\teval-logloss:0.59655\ttrain-logloss:0.56674\n",
      "[4]\teval-logloss:0.58006\ttrain-logloss:0.54226\n",
      "[5]\teval-logloss:0.56298\ttrain-logloss:0.52069\n",
      "[6]\teval-logloss:0.55055\ttrain-logloss:0.49830\n",
      "[7]\teval-logloss:0.54338\ttrain-logloss:0.48469\n",
      "[8]\teval-logloss:0.53650\ttrain-logloss:0.46991\n",
      "[9]\teval-logloss:0.52711\ttrain-logloss:0.45549\n"
     ]
    },
    {
     "data": {
      "text/plain": [
       "{'f0': 11.0,\n",
       " 'f1': 29.0,\n",
       " 'f2': 28.0,\n",
       " 'f3': 12.0,\n",
       " 'f4': 18.0,\n",
       " 'f5': 31.0,\n",
       " 'f6': 37.0,\n",
       " 'f7': 27.0}"
      ]
     },
     "execution_count": 7,
     "metadata": {},
     "output_type": "execute_result"
    },
    {
     "data": {
      "image/png": "[encoded data removed]",
      "text/plain": [
       "<Figure size 640x480 with 1 Axes>"
      ]
     },
     "metadata": {},
     "output_type": "display_data"
    }
   ],
   "source": [
    "import pandas as pd\n",
    "import pickle\n",
    "import xgboost as xgb\n",
    "from sklearn.model_selection import train_test_split\n",
    "# 数据导入和切分\n",
    "data = pd.read_csv('data/pima-indians-diabetes.csv')\n",
    "train, test = train_test_split(data)\n",
    "feature_columns = ['Pregnancies', 'Glucose', 'BloodPressure', 'SkinThickness', 'Insulin', 'BMI', 'DiabetesPedigreeFunction', 'Age']\n",
    "target_column = 'Outcome'\n",
    "xgtrain = xgb.DMatrix(train[feature_columns].values, train[target_column].values)\n",
    "xgtest = xgb.DMatrix(test[feature_columns].values, test[target_column].values)\n",
    "# 参数设定\n",
    "#param = {'max_depth':5, 'eta':0.1, 'silent':1, 'subsample':0.7, 'colsample_bytree':0.7, 'objective':'binary:logistic' }\n",
    "param = {'max_depth':5, 'eta':0.1, 'subsample':0.7, 'colsample_bytree':0.7, 'objective':'binary:logistic' }\n",
    "# 设定watchlist用于查看模型状态\n",
    "watchlist  = [(xgtest,'eval'), (xgtrain,'train')]\n",
    "num_round = 10\n",
    "bst = xgb.train(param, xgtrain, num_round, watchlist)\n",
    "xgb.plot_importance(bst)\n",
    "bst.get_score()\n",
    "#{'f1': 24, 'f7': 40, 'f3': 13, 'f6': 31, 'f0': 9, 'f4': 21, 'f5': 23, 'f2': 22}"
   ]
  }
 ],
 "metadata": {
  "kernelspec": {
   "display_name": "Python 3",
   "language": "python",
   "name": "python3"
  },
  "language_info": {
   "codemirror_mode": {
    "name": "ipython",
    "version": 3
   },
   "file_extension": ".py",
   "mimetype": "text/x-python",
   "name": "python",
   "nbconvert_exporter": "python",
   "pygments_lexer": "ipython3",
   "version": "3.9.10"
  },
  "vscode": {
   "interpreter": {
    "hash": "f6246b25e200e4c5124e3e61789ac81350562f0761bbcf92ad9e48654207659c"
   }
  }
 },
 "nbformat": 4,
 "nbformat_minor": 5
}
